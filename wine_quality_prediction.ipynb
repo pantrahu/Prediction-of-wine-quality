{
  "nbformat": 4,
  "nbformat_minor": 0,
  "metadata": {
    "colab": {
      "name": "Untitled1.ipynb",
      "provenance": []
    },
    "kernelspec": {
      "name": "python3",
      "display_name": "Python 3"
    },
    "language_info": {
      "name": "python"
    }
  },
  "cells": [
    {
      "cell_type": "code",
      "execution_count": 1,
      "metadata": {
        "id": "OxzYiJl3pBSH"
      },
      "outputs": [],
      "source": [
        "import numpy as np\n",
        "import pandas as pd\n",
        "import matplotlib as plt\n",
        "import seaborn as sns\n",
        "import plotly.express as px"
      ]
    },
    {
      "cell_type": "code",
      "source": [
        "df = pd.read_csv(\"../input/red-wine-quality-cortez-et-al-2009/winequality-red.csv\")"
      ],
      "metadata": {
        "id": "pM4gQ6vYpGui"
      },
      "execution_count": null,
      "outputs": []
    },
    {
      "cell_type": "code",
      "source": [
        "# See the number of rows and columns\n",
        "print(\"Rows, columns: \" + str(df.shape))\n",
        "# See the first five rows of the dataset\n",
        "df.head()"
      ],
      "metadata": {
        "id": "8LBAhGtZpRhV"
      },
      "execution_count": null,
      "outputs": []
    },
    {
      "cell_type": "code",
      "source": [
        "# Missing Values\n",
        "print(df.isna().sum()"
      ],
      "metadata": {
        "id": "jxsbJpNprNEg"
      },
      "execution_count": null,
      "outputs": []
    },
    {
      "cell_type": "code",
      "source": [
        "fig = px.histogram(df,x='quality')\n",
        "fig.show()"
      ],
      "metadata": {
        "id": "l1Mkv6cmrQuq"
      },
      "execution_count": null,
      "outputs": []
    },
    {
      "cell_type": "code",
      "source": [
        "corr = df.corr()\n",
        "matplotlib.pyplot.subplots(figsize=(15,10))\n",
        "sns.heatmap(corr, xticklabels=corr.columns, yticklabels=corr.columns, annot=True, cmap=sns.diverging_palette(220, 20, as_cmap=True))"
      ],
      "metadata": {
        "id": "ulk_UaLmrVNJ"
      },
      "execution_count": null,
      "outputs": []
    },
    {
      "cell_type": "code",
      "source": [
        "# Create Classification version of target variable\n",
        "df['goodquality'] = [1 if x >= 7 else 0 for x in df['quality']]\n",
        "# Separate feature variables and target variable\n",
        "X = df.drop(['quality','goodquality'], axis = 1)\n",
        "y = df['goodquality'"
      ],
      "metadata": {
        "id": "a3zBb8hBrVti"
      },
      "execution_count": null,
      "outputs": []
    },
    {
      "cell_type": "code",
      "source": [
        "# See proportion of good vs bad wines\n",
        "df['goodquality'].value_counts()"
      ],
      "metadata": {
        "id": "Vt4s-b3XrlcG"
      },
      "execution_count": null,
      "outputs": []
    },
    {
      "cell_type": "code",
      "source": [
        "# Normalize feature variables\n",
        "from sklearn.preprocessing import StandardScaler\n",
        "X_features = X\n",
        "X = StandardScaler().fit_transform(X)"
      ],
      "metadata": {
        "id": "m1Iwd18irugO"
      },
      "execution_count": null,
      "outputs": []
    },
    {
      "cell_type": "code",
      "source": [
        "# Splitting the data\n",
        "from sklearn.model_selection import train_test_split\n",
        "X_train, X_test, y_train, y_test = train_test_split(X, y, test_size=.25, random_state=0)"
      ],
      "metadata": {
        "id": "mXuXG0str7Sd"
      },
      "execution_count": null,
      "outputs": []
    },
    {
      "cell_type": "code",
      "source": [
        "from sklearn.ensemble import RandomForestClassifier\n",
        "model2 = RandomForestClassifier(random_state=1)\n",
        "model2.fit(X_train, y_train)\n",
        "y_pred2 = model2.predict(X_test)\n",
        "print(classification_report(y_test, y_pred2))\n"
      ],
      "metadata": {
        "id": "0CmBNOF0r71i"
      },
      "execution_count": null,
      "outputs": []
    },
    {
      "cell_type": "code",
      "source": [
        "feat_importances = pd.Series(model2.feature_importances_, index=X_features.columns)\n",
        "feat_importances.nlargest(25).plot(kind='barh',figsize=(10,10))"
      ],
      "metadata": {
        "id": "vlvrZ_tSsFkf"
      },
      "execution_count": null,
      "outputs": []
    },
    {
      "cell_type": "code",
      "source": [
        "# Filtering df for only good quality\n",
        "df_temp = df[df['goodquality']==1]\n",
        "df_temp.describe()\n",
        "# Filtering df for only bad quality\n",
        "df_temp2 = df[df['goodquality']==0]\n",
        "df_temp2.describe()"
      ],
      "metadata": {
        "id": "VDVCx6MssQos"
      },
      "execution_count": null,
      "outputs": []
    }
  ]
}